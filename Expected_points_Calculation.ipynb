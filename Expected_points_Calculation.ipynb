{
  "nbformat": 4,
  "nbformat_minor": 0,
  "metadata": {
    "colab": {
      "provenance": [],
      "authorship_tag": "ABX9TyNkdAMtWI+BCtLidCAIw7rB",
      "include_colab_link": true
    },
    "kernelspec": {
      "name": "python3",
      "display_name": "Python 3"
    },
    "language_info": {
      "name": "python"
    }
  },
  "cells": [
    {
      "cell_type": "markdown",
      "metadata": {
        "id": "view-in-github",
        "colab_type": "text"
      },
      "source": [
        "<a href=\"https://colab.research.google.com/github/Abhishek3102/Football-Analytics/blob/main/Expected_points_Calculation.ipynb\" target=\"_parent\"><img src=\"https://colab.research.google.com/assets/colab-badge.svg\" alt=\"Open In Colab\"/></a>"
      ]
    },
    {
      "cell_type": "markdown",
      "source": [
        "Probability_win * 3 + Probability_draw * 1 + Probability_loss * 0"
      ],
      "metadata": {
        "id": "wC5HPvlr2Y8S"
      }
    },
    {
      "cell_type": "code",
      "execution_count": null,
      "metadata": {
        "id": "jRddPC6A1_wH"
      },
      "outputs": [],
      "source": [
        "import numpy as np\n",
        "from scipy.stats import poisson\n",
        "import matplotlib.pyplot as plt"
      ]
    },
    {
      "cell_type": "code",
      "source": [
        "team_A_xg = sum([0.1, 0.05, 0.2, 0.15])\n",
        "team_B_xg = sum([0.05, 0.7, 0.35])\n",
        "\n",
        "print(team_A_xg)\n",
        "print(team_B_xg)"
      ],
      "metadata": {
        "colab": {
          "base_uri": "https://localhost:8080/"
        },
        "id": "0DJuZ2-q2jeS",
        "outputId": "a532484b-d2fb-4664-f867-0531645f1aec"
      },
      "execution_count": null,
      "outputs": [
        {
          "output_type": "stream",
          "name": "stdout",
          "text": [
            "0.5\n",
            "1.1\n"
          ]
        }
      ]
    },
    {
      "cell_type": "code",
      "source": [
        "team_A_goal_probability = [poisson.pmf(i, team_A_xg) for i in range(10)]\n",
        "team_B_goal_probability = [poisson.pmf(i, team_B_xg) for i in range(10)]"
      ],
      "metadata": {
        "id": "oakCeekl2-yU"
      },
      "execution_count": null,
      "outputs": []
    },
    {
      "cell_type": "code",
      "source": [
        "team_A_goal_probability"
      ],
      "metadata": {
        "colab": {
          "base_uri": "https://localhost:8080/"
        },
        "id": "_PwQdkjJ30GN",
        "outputId": "2c570541-7342-4c18-f358-7da184fdccb2"
      },
      "execution_count": null,
      "outputs": [
        {
          "output_type": "execute_result",
          "data": {
            "text/plain": [
              "[0.6065306597126334,\n",
              " 0.3032653298563167,\n",
              " 0.07581633246407919,\n",
              " 0.012636055410679865,\n",
              " 0.0015795069263349827,\n",
              " 0.0001579506926334984,\n",
              " 1.3162557719458204e-05,\n",
              " 9.401826942470143e-07,\n",
              " 5.8761418390438375e-08,\n",
              " 3.2645232439132407e-09]"
            ]
          },
          "metadata": {},
          "execution_count": 4
        }
      ]
    },
    {
      "cell_type": "code",
      "source": [
        "expected_goals_A = sum(i * prob for i, prob in enumerate(team_A_goal_probability))\n",
        "expected_goals_B = sum(i * prob for i, prob in enumerate(team_B_goal_probability))"
      ],
      "metadata": {
        "id": "SY_BiDCn33IH"
      },
      "execution_count": null,
      "outputs": []
    },
    {
      "cell_type": "code",
      "source": [
        "print(\"Expected goals for team A is :\",expected_goals_A)\n",
        "print(\"Expected goals for team B is :\",expected_goals_B)"
      ],
      "metadata": {
        "colab": {
          "base_uri": "https://localhost:8080/"
        },
        "id": "hlQQtmfv45yk",
        "outputId": "2a40c640-273a-44b8-d03c-f8feb4fb281f"
      },
      "execution_count": null,
      "outputs": [
        {
          "output_type": "stream",
          "name": "stdout",
          "text": [
            "Expected goals for team A is : 0.49999999828225494\n",
            "Expected goals for team B is : 1.0999973302426327\n"
          ]
        }
      ]
    },
    {
      "cell_type": "code",
      "source": [
        "match_probability = np.outer(team_A_goal_probability, team_B_goal_probability)\n",
        "print(match_probability)"
      ],
      "metadata": {
        "colab": {
          "base_uri": "https://localhost:8080/"
        },
        "id": "ChK8fo845Kvr",
        "outputId": "a4300bd2-076b-409c-a306-a7f1b6847a77"
      },
      "execution_count": null,
      "outputs": [
        {
          "output_type": "stream",
          "name": "stdout",
          "text": [
            "[[2.01896518e-01 2.22086170e-01 1.22147393e-01 4.47873776e-02\n",
            "  1.23165288e-02 2.70963634e-03 4.96766663e-04 7.80633327e-05\n",
            "  1.07337083e-05 1.31189768e-06]\n",
            " [1.00948259e-01 1.11043085e-01 6.10736967e-02 2.23936888e-02\n",
            "  6.15826442e-03 1.35481817e-03 2.48383331e-04 3.90316664e-05\n",
            "  5.36685413e-06 6.55948838e-07]\n",
            " [2.52370647e-02 2.77607712e-02 1.52684242e-02 5.59842220e-03\n",
            "  1.53956610e-03 3.38704543e-04 6.20958329e-05 9.75791659e-06\n",
            "  1.34171353e-06 1.63987209e-07]\n",
            " [4.20617746e-03 4.62679520e-03 2.54473736e-03 9.33070366e-04\n",
            "  2.56594351e-04 5.64507572e-05 1.03493055e-05 1.62631943e-06\n",
            "  2.23618922e-07 2.73312016e-08]\n",
            " [5.25772182e-04 5.78349401e-04 3.18092170e-04 1.16633796e-04\n",
            "  3.20742938e-05 7.05634464e-06 1.29366318e-06 2.03289929e-07\n",
            "  2.79523652e-08 3.41640020e-09]\n",
            " [5.25772182e-05 5.78349401e-05 3.18092170e-05 1.16633796e-05\n",
            "  3.20742938e-06 7.05634464e-07 1.29366318e-07 2.03289929e-08\n",
            "  2.79523652e-09 3.41640020e-10]\n",
            " [4.38143485e-06 4.81957834e-06 2.65076809e-06 9.71948298e-07\n",
            "  2.67285782e-07 5.88028720e-08 1.07805265e-08 1.69408274e-09\n",
            "  2.32936377e-10 2.84700016e-11]\n",
            " [3.12959632e-07 3.44255596e-07 1.89340578e-07 6.94248784e-08\n",
            "  1.90918416e-08 4.20020515e-09 7.70037610e-10 1.21005910e-10\n",
            "  1.66383126e-11 2.03357155e-12]\n",
            " [1.95599770e-08 2.15159747e-08 1.18337861e-08 4.33905490e-09\n",
            "  1.19324010e-09 2.62512822e-10 4.81273506e-11 7.56286938e-12\n",
            "  1.03989454e-12 1.27098222e-13]\n",
            " [1.08666539e-09 1.19533193e-09 6.57432561e-10 2.41058606e-10\n",
            "  6.62911166e-11 1.45840456e-11 2.67374170e-12 4.20159410e-13\n",
            "  5.77719189e-14 7.06101231e-15]]\n"
          ]
        }
      ]
    },
    {
      "cell_type": "code",
      "source": [
        "p_win = np.sum(np.tril(match_probability, -1))\n",
        "p_draw = np.sum(np.diag(match_probability))\n",
        "p_loss = np.sum(np.triu(match_probability, 1))"
      ],
      "metadata": {
        "id": "gJJMQ2ka5xqT"
      },
      "execution_count": null,
      "outputs": []
    },
    {
      "cell_type": "code",
      "source": [
        "p_win * 3 + p_draw * 1 + p_loss * 0"
      ],
      "metadata": {
        "colab": {
          "base_uri": "https://localhost:8080/"
        },
        "id": "3dSlcQTL6H9k",
        "outputId": "094b97f3-0dd7-4acb-f5b9-0c4f69c223d3"
      },
      "execution_count": null,
      "outputs": [
        {
          "output_type": "execute_result",
          "data": {
            "text/plain": [
              "0.830275578104867"
            ]
          },
          "metadata": {},
          "execution_count": 10
        }
      ]
    }
  ]
}